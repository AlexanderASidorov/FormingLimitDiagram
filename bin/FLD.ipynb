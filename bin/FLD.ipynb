{
 "cells": [
  {
   "cell_type": "code",
   "execution_count": null,
   "id": "1e073aa1-77f4-4ce4-911f-c28b3bbe35ce",
   "metadata": {},
   "outputs": [],
   "source": [
    "# Импортируем нужные библиотеки\n"
   ]
  },
  {
   "cell_type": "code",
   "execution_count": 1,
   "id": "4baef5f2-a644-430d-bb16-83ed1e5f09c6",
   "metadata": {},
   "outputs": [],
   "source": [
    "# Исходные данные\n",
    "A80 = 40.8 # деформация перед разрушением в направлении параллельном направлению проката\n",
    "r0, r45, r90 = 1.769, 1.661, 2.225 # коэффициенты пластической анизатропии\n",
    "t = 1.2 # толщина материала\n",
    "A80min = None # минимальное среди трех направлений значение деформации перед разрушением "
   ]
  },
  {
   "cell_type": "code",
   "execution_count": 2,
   "id": "60df157f-c3e5-4285-aefc-e5f5a74c99f4",
   "metadata": {},
   "outputs": [],
   "source": [
    "# Расчет усредненного коэффициента пластической анизатропии и окончательное назначение A80\n",
    "r = (r0 + 2*r45 + r90) / 4 # усредненный коэффициент пластической анизатропии\n",
    "A80min = A80min if A80min is not None else A80 # минимальное среди трех направление значение деформации перед разрушением"
   ]
  },
  {
   "cell_type": "code",
   "execution_count": null,
   "id": "39f5448f-9169-4fca-a888-226bb145ffda",
   "metadata": {},
   "outputs": [],
   "source": []
  }
 ],
 "metadata": {
  "kernelspec": {
   "display_name": "Python 3 (ipykernel)",
   "language": "python",
   "name": "python3"
  },
  "language_info": {
   "codemirror_mode": {
    "name": "ipython",
    "version": 3
   },
   "file_extension": ".py",
   "mimetype": "text/x-python",
   "name": "python",
   "nbconvert_exporter": "python",
   "pygments_lexer": "ipython3",
   "version": "3.13.2"
  }
 },
 "nbformat": 4,
 "nbformat_minor": 5
}
